{
 "cells": [
  {
   "cell_type": "markdown",
   "metadata": {},
   "source": [
    "# Dataset Clustering\n"
   ]
  },
  {
   "cell_type": "markdown",
   "metadata": {},
   "source": [
    "### Dataset Description\n",
    "\n",
    "Name : [Energy consumption of the Netherlands](https://www.kaggle.com/lucabasa/dutch-energy)\n",
    "\n",
    "Enexis, Liander, and Stedin are the three major network administrators of the Netherlands and, together, they provide energy to nearly the entire country. Every year, they release on their websites a table with the energy consumption of the areas under their administration.\n",
    "\n",
    "The data are anonymized by aggregating the Zipcodes so that every entry describes at least 10 connections.\n",
    "\n",
    "This market is not competitive, meaning that the zones are assigned. This means that every year they roughly provide energy to the same zipcodes. Small changes can happen from year to year either for a change of management or for a different aggregation of zipcodes."
   ]
  },
  {
   "cell_type": "code",
   "execution_count": 33,
   "metadata": {},
   "outputs": [],
   "source": [
    "# Spark Initialization\n",
    "\n",
    "from pyspark.sql import SparkSession\n",
    "\n",
    "# Create Spark Session\n",
    "spark = SparkSession \\\n",
    "    .builder \\\n",
    "    .appName(\"Python Spark SQL basic example\") \\\n",
    "    .getOrCreate()"
   ]
  },
  {
   "cell_type": "code",
   "execution_count": 34,
   "metadata": {},
   "outputs": [
    {
     "name": "stdout",
     "output_type": "stream",
     "text": [
      "<pyspark.sql.session.SparkSession object at 0x10ea97f98>\n"
     ]
    }
   ],
   "source": [
    "print(spark)"
   ]
  },
  {
   "cell_type": "markdown",
   "metadata": {},
   "source": [
    "## Dataset Preprocess"
   ]
  },
  {
   "cell_type": "markdown",
   "metadata": {},
   "source": [
    "### Combine all the dataset\n",
    "\n",
    "combine dataset from Enexis, Liander, and Stedin and group by years"
   ]
  },
  {
   "cell_type": "code",
   "execution_count": 64,
   "metadata": {},
   "outputs": [],
   "source": [
    "import numpy as np\n",
    "import pandas as pd\n",
    "\n",
    "#visualization\n",
    "import seaborn as sns\n",
    "import matplotlib.pyplot as plt\n",
    "%matplotlib inline\n",
    "\n",
    "from os.path import join, isfile\n",
    "from os import path, scandir, listdir\n",
    "\n",
    "import gc"
   ]
  },
  {
   "cell_type": "code",
   "execution_count": 65,
   "metadata": {},
   "outputs": [],
   "source": [
    "def list_all_files(location='../dataset/', pattern=None, recursive=True):\n",
    "    \"\"\"\n",
    "    This function returns a list of files at a given location (including subfolders)\n",
    "    \n",
    "    - location: path to the directory to be searched\n",
    "    - pattern: part of the file name to be searched (ex. pattern='.csv' would return all the csv files)\n",
    "    - recursive: boolean, if True the function calls itself for every subdirectory it finds\n",
    "    \"\"\"\n",
    "    subdirectories= [f.path for f in scandir(location) if f.is_dir()]\n",
    "    files = [join(location, f) for f in listdir(location) if isfile(join(location, f))]\n",
    "    if recursive:\n",
    "        for directory in subdirectories:\n",
    "            files.extend(list_all_files(directory))\n",
    "    if pattern:\n",
    "        files = [f for f in files if pattern in f]\n",
    "    return files"
   ]
  },
  {
   "cell_type": "code",
   "execution_count": 66,
   "metadata": {},
   "outputs": [
    {
     "data": {
      "text/plain": [
       "['../dataset/Electricity/stedin_electricity_2019.csv',\n",
       " '../dataset/Electricity/stedin_electricity_2018.csv',\n",
       " '../dataset/Electricity/stedin_electricity_2009.csv',\n",
       " '../dataset/Electricity/stedin_electricity_2010.csv',\n",
       " '../dataset/Electricity/stedin_electricity_2011.csv',\n",
       " '../dataset/Electricity/stedin_electricity_2013.csv',\n",
       " '../dataset/Electricity/stedin_electricity_2012.csv',\n",
       " '../dataset/Electricity/stedin_electricity_2016.csv',\n",
       " '../dataset/Electricity/stedin_electricity_2017.csv',\n",
       " '../dataset/Electricity/stedin_electricity_2015.csv',\n",
       " '../dataset/Electricity/stedin_electricity_2014.csv']"
      ]
     },
     "execution_count": 66,
     "metadata": {},
     "output_type": "execute_result"
    }
   ],
   "source": [
    "list_all_files('../dataset/Electricity/', pattern='stedin')"
   ]
  },
  {
   "cell_type": "code",
   "execution_count": 67,
   "metadata": {},
   "outputs": [],
   "source": [
    "def importer(file_list):\n",
    "    imported = {}\n",
    "    for file in file_list:\n",
    "        yr = file.split('_')[-1].split('.')[0]\n",
    "        if '0101' in yr:\n",
    "            yr = yr.replace('0101', '')\n",
    "        name = file.split('/')[-1].split('_')[0]\n",
    "        # print(name, yr)\n",
    "        df = pd.read_csv(file)\n",
    "        # print(df.shape)\n",
    "        imported[name + '_' + yr] = df\n",
    "        del df\n",
    "    return imported"
   ]
  },
  {
   "cell_type": "code",
   "execution_count": 68,
   "metadata": {},
   "outputs": [
    {
     "name": "stdout",
     "output_type": "stream",
     "text": [
      "Done!\n"
     ]
    }
   ],
   "source": [
    "elec_list = list_all_files('../dataset/Electricity/')\n",
    "gas_list = list_all_files('../dataset/Gas/')\n",
    "imp_elec = importer(elec_list)\n",
    "imp_gas = importer(gas_list)\n",
    "print('Done!')"
   ]
  },
  {
   "cell_type": "code",
   "execution_count": 70,
   "metadata": {},
   "outputs": [],
   "source": [
    "def merge_manager(data_dict):\n",
    "    all_man = pd.DataFrame()\n",
    "    n_rows = 0\n",
    "    for key in data_dict.keys():\n",
    "        df = data_dict[key].copy()\n",
    "        yr = key.split('_')[1]\n",
    "        yr = str(int(yr) - 1) # account for the \"delayed data issue\"\n",
    "        df = df.rename(columns={'annual_consume' : 'annual_consume_' + yr,\n",
    "                               'delivery_perc': 'delivery_perc_' + yr,\n",
    "                               'num_connections': 'num_connections_' + yr,\n",
    "                               'perc_of_active_connections': 'perc_of_active_connections_' + yr,\n",
    "                               'annual_consume_lowtarif_perc': 'annual_consume_lowtarif_perc_' + yr,\n",
    "                               'smartmeter_perc': 'smartmeter_perc_' + yr})\n",
    "        del df['type_conn_perc']\n",
    "        del df['type_of_connection']\n",
    "        del df['net_manager']\n",
    "        del df['purchase_area']\n",
    "        n_rows += df.shape[0]\n",
    "        if len(all_man) == 0:\n",
    "            all_man = df.copy()\n",
    "        else:\n",
    "            del df['street']\n",
    "            del df['city']\n",
    "            all_man = pd.merge(all_man, df, on=['zipcode_from', 'zipcode_to'], how='inner') # 'city', 'street',  \n",
    "        del df\n",
    "        gc.collect()\n",
    "    print(f\"Total rows before merge: {n_rows}\")\n",
    "    print(f\"Total rows after merge: {all_man.shape[0]}\")\n",
    "    return all_man\n",
    "\n",
    "\n",
    "def merge_yr(data_dict):\n",
    "    all_yr = pd.DataFrame()\n",
    "    for manager in ['enexis', 'liander', 'stedin']:\n",
    "        print(manager)\n",
    "        tmp = { key: data_dict[key] for key in data_dict.keys() if manager in key}\n",
    "        all_man = merge_manager(tmp)\n",
    "        if len(all_yr) == 0:\n",
    "            all_yr = all_man.copy()\n",
    "        else:\n",
    "            all_yr = pd.concat([all_yr, all_man], ignore_index=True, join='inner')\n",
    "        del all_man\n",
    "        gc.collect()\n",
    "        print(\"_\"*40)\n",
    "    print(f\"Final shape: {all_yr.shape}\")\n",
    "    return all_yr"
   ]
  },
  {
   "cell_type": "code",
   "execution_count": 71,
   "metadata": {},
   "outputs": [
    {
     "name": "stdout",
     "output_type": "stream",
     "text": [
      "Electricity merging...\n",
      "enexis\n",
      "Total rows before merge: 1141402\n",
      "Total rows after merge: 90692\n",
      "________________________________________\n",
      "liander\n",
      "Total rows before merge: 1511295\n",
      "Total rows after merge: 126360\n",
      "________________________________________\n",
      "stedin\n",
      "Total rows before merge: 913096\n",
      "Total rows after merge: 88948\n",
      "________________________________________\n",
      "Final shape: (306000, 64)\n",
      "________________________________________\n",
      "________________________________________\n",
      "Gas merging...\n",
      "enexis\n",
      "Total rows before merge: 950202\n",
      "Total rows after merge: 63425\n",
      "________________________________________\n",
      "liander\n",
      "Total rows before merge: 1200607\n",
      "Total rows after merge: 97952\n",
      "________________________________________\n",
      "stedin\n",
      "Total rows before merge: 934948\n",
      "Total rows after merge: 79621\n",
      "________________________________________\n",
      "Final shape: (240998, 64)\n"
     ]
    }
   ],
   "source": [
    "print(\"Electricity merging...\")\n",
    "elec_full = merge_yr(imp_elec)\n",
    "print('_'*40)\n",
    "print('_'*40)\n",
    "print(\"Gas merging...\")\n",
    "gas_full = merge_yr(imp_gas)"
   ]
  },
  {
   "cell_type": "code",
   "execution_count": 74,
   "metadata": {},
   "outputs": [
    {
     "data": {
      "text/html": [
       "<div>\n",
       "<style scoped>\n",
       "    .dataframe tbody tr th:only-of-type {\n",
       "        vertical-align: middle;\n",
       "    }\n",
       "\n",
       "    .dataframe tbody tr th {\n",
       "        vertical-align: top;\n",
       "    }\n",
       "\n",
       "    .dataframe thead th {\n",
       "        text-align: right;\n",
       "    }\n",
       "</style>\n",
       "<table border=\"1\" class=\"dataframe\">\n",
       "  <thead>\n",
       "    <tr style=\"text-align: right;\">\n",
       "      <th></th>\n",
       "      <th>street</th>\n",
       "      <th>zipcode_from</th>\n",
       "      <th>zipcode_to</th>\n",
       "      <th>city</th>\n",
       "      <th>delivery_perc_2015</th>\n",
       "      <th>num_connections_2015</th>\n",
       "      <th>perc_of_active_connections_2015</th>\n",
       "      <th>annual_consume_2015</th>\n",
       "      <th>annual_consume_lowtarif_perc_2015</th>\n",
       "      <th>smartmeter_perc_2015</th>\n",
       "      <th>...</th>\n",
       "      <th>perc_of_active_connections_2018</th>\n",
       "      <th>annual_consume_2018</th>\n",
       "      <th>annual_consume_lowtarif_perc_2018</th>\n",
       "      <th>smartmeter_perc_2018</th>\n",
       "      <th>num_connections_2017</th>\n",
       "      <th>delivery_perc_2017</th>\n",
       "      <th>perc_of_active_connections_2017</th>\n",
       "      <th>annual_consume_2017</th>\n",
       "      <th>annual_consume_lowtarif_perc_2017</th>\n",
       "      <th>smartmeter_perc_2017</th>\n",
       "    </tr>\n",
       "  </thead>\n",
       "  <tbody>\n",
       "    <tr>\n",
       "      <th>0</th>\n",
       "      <td>Sasdijk</td>\n",
       "      <td>4251AB</td>\n",
       "      <td>4251AB</td>\n",
       "      <td>WERKENDAM</td>\n",
       "      <td>100.0</td>\n",
       "      <td>15</td>\n",
       "      <td>100.0</td>\n",
       "      <td>4728</td>\n",
       "      <td>29.0</td>\n",
       "      <td>7.0</td>\n",
       "      <td>...</td>\n",
       "      <td>100.0</td>\n",
       "      <td>4614.24</td>\n",
       "      <td>34.24</td>\n",
       "      <td>41.18</td>\n",
       "      <td>17</td>\n",
       "      <td>100.00</td>\n",
       "      <td>100.0</td>\n",
       "      <td>4149.24</td>\n",
       "      <td>28.33</td>\n",
       "      <td>29.41</td>\n",
       "    </tr>\n",
       "    <tr>\n",
       "      <th>1</th>\n",
       "      <td>Sasdijk</td>\n",
       "      <td>4251AC</td>\n",
       "      <td>4251AC</td>\n",
       "      <td>WERKENDAM</td>\n",
       "      <td>80.0</td>\n",
       "      <td>10</td>\n",
       "      <td>100.0</td>\n",
       "      <td>3908</td>\n",
       "      <td>33.0</td>\n",
       "      <td>20.0</td>\n",
       "      <td>...</td>\n",
       "      <td>100.0</td>\n",
       "      <td>2520.73</td>\n",
       "      <td>34.31</td>\n",
       "      <td>36.36</td>\n",
       "      <td>11</td>\n",
       "      <td>81.82</td>\n",
       "      <td>100.0</td>\n",
       "      <td>2389.27</td>\n",
       "      <td>34.60</td>\n",
       "      <td>36.36</td>\n",
       "    </tr>\n",
       "    <tr>\n",
       "      <th>2</th>\n",
       "      <td>Sasdijk</td>\n",
       "      <td>4251AD</td>\n",
       "      <td>4251AD</td>\n",
       "      <td>WERKENDAM</td>\n",
       "      <td>100.0</td>\n",
       "      <td>29</td>\n",
       "      <td>100.0</td>\n",
       "      <td>3850</td>\n",
       "      <td>30.0</td>\n",
       "      <td>14.0</td>\n",
       "      <td>...</td>\n",
       "      <td>100.0</td>\n",
       "      <td>4275.46</td>\n",
       "      <td>38.34</td>\n",
       "      <td>28.57</td>\n",
       "      <td>29</td>\n",
       "      <td>100.00</td>\n",
       "      <td>100.0</td>\n",
       "      <td>3866.21</td>\n",
       "      <td>32.11</td>\n",
       "      <td>17.24</td>\n",
       "    </tr>\n",
       "    <tr>\n",
       "      <th>3</th>\n",
       "      <td>Nieuweweg</td>\n",
       "      <td>4251AE</td>\n",
       "      <td>4251AG</td>\n",
       "      <td>WERKENDAM</td>\n",
       "      <td>95.0</td>\n",
       "      <td>21</td>\n",
       "      <td>100.0</td>\n",
       "      <td>4751</td>\n",
       "      <td>52.0</td>\n",
       "      <td>14.0</td>\n",
       "      <td>...</td>\n",
       "      <td>100.0</td>\n",
       "      <td>4620.24</td>\n",
       "      <td>60.18</td>\n",
       "      <td>33.33</td>\n",
       "      <td>21</td>\n",
       "      <td>90.48</td>\n",
       "      <td>100.0</td>\n",
       "      <td>4416.52</td>\n",
       "      <td>57.26</td>\n",
       "      <td>33.33</td>\n",
       "    </tr>\n",
       "    <tr>\n",
       "      <th>4</th>\n",
       "      <td>Koppenhof</td>\n",
       "      <td>4251AH</td>\n",
       "      <td>4251AH</td>\n",
       "      <td>WERKENDAM</td>\n",
       "      <td>100.0</td>\n",
       "      <td>13</td>\n",
       "      <td>100.0</td>\n",
       "      <td>3084</td>\n",
       "      <td>31.0</td>\n",
       "      <td>23.0</td>\n",
       "      <td>...</td>\n",
       "      <td>100.0</td>\n",
       "      <td>3037.38</td>\n",
       "      <td>40.24</td>\n",
       "      <td>38.46</td>\n",
       "      <td>13</td>\n",
       "      <td>100.00</td>\n",
       "      <td>100.0</td>\n",
       "      <td>3233.77</td>\n",
       "      <td>27.92</td>\n",
       "      <td>30.77</td>\n",
       "    </tr>\n",
       "  </tbody>\n",
       "</table>\n",
       "<p>5 rows × 64 columns</p>\n",
       "</div>"
      ],
      "text/plain": [
       "      street zipcode_from zipcode_to       city  delivery_perc_2015  \\\n",
       "0    Sasdijk       4251AB     4251AB  WERKENDAM               100.0   \n",
       "1    Sasdijk       4251AC     4251AC  WERKENDAM                80.0   \n",
       "2    Sasdijk       4251AD     4251AD  WERKENDAM               100.0   \n",
       "3  Nieuweweg       4251AE     4251AG  WERKENDAM                95.0   \n",
       "4  Koppenhof       4251AH     4251AH  WERKENDAM               100.0   \n",
       "\n",
       "   num_connections_2015  perc_of_active_connections_2015  annual_consume_2015  \\\n",
       "0                    15                            100.0                 4728   \n",
       "1                    10                            100.0                 3908   \n",
       "2                    29                            100.0                 3850   \n",
       "3                    21                            100.0                 4751   \n",
       "4                    13                            100.0                 3084   \n",
       "\n",
       "   annual_consume_lowtarif_perc_2015  smartmeter_perc_2015  ...  \\\n",
       "0                               29.0                   7.0  ...   \n",
       "1                               33.0                  20.0  ...   \n",
       "2                               30.0                  14.0  ...   \n",
       "3                               52.0                  14.0  ...   \n",
       "4                               31.0                  23.0  ...   \n",
       "\n",
       "   perc_of_active_connections_2018  annual_consume_2018  \\\n",
       "0                            100.0              4614.24   \n",
       "1                            100.0              2520.73   \n",
       "2                            100.0              4275.46   \n",
       "3                            100.0              4620.24   \n",
       "4                            100.0              3037.38   \n",
       "\n",
       "   annual_consume_lowtarif_perc_2018  smartmeter_perc_2018  \\\n",
       "0                              34.24                 41.18   \n",
       "1                              34.31                 36.36   \n",
       "2                              38.34                 28.57   \n",
       "3                              60.18                 33.33   \n",
       "4                              40.24                 38.46   \n",
       "\n",
       "   num_connections_2017  delivery_perc_2017  perc_of_active_connections_2017  \\\n",
       "0                    17              100.00                            100.0   \n",
       "1                    11               81.82                            100.0   \n",
       "2                    29              100.00                            100.0   \n",
       "3                    21               90.48                            100.0   \n",
       "4                    13              100.00                            100.0   \n",
       "\n",
       "   annual_consume_2017  annual_consume_lowtarif_perc_2017  \\\n",
       "0              4149.24                              28.33   \n",
       "1              2389.27                              34.60   \n",
       "2              3866.21                              32.11   \n",
       "3              4416.52                              57.26   \n",
       "4              3233.77                              27.92   \n",
       "\n",
       "   smartmeter_perc_2017  \n",
       "0                 29.41  \n",
       "1                 36.36  \n",
       "2                 17.24  \n",
       "3                 33.33  \n",
       "4                 30.77  \n",
       "\n",
       "[5 rows x 64 columns]"
      ]
     },
     "execution_count": 74,
     "metadata": {},
     "output_type": "execute_result"
    }
   ],
   "source": [
    "elec_full.head()"
   ]
  },
  {
   "cell_type": "markdown",
   "metadata": {},
   "source": [
    "## Export to csv"
   ]
  },
  {
   "cell_type": "code",
   "execution_count": 75,
   "metadata": {},
   "outputs": [],
   "source": [
    "elec_full.to_csv(r'./electricity.csv')"
   ]
  },
  {
   "cell_type": "code",
   "execution_count": 76,
   "metadata": {},
   "outputs": [],
   "source": [
    "gas_full.to_csv(r'./gas.csv')"
   ]
  },
  {
   "cell_type": "markdown",
   "metadata": {},
   "source": [
    "## Clustering Session"
   ]
  },
  {
   "cell_type": "code",
   "execution_count": 81,
   "metadata": {},
   "outputs": [],
   "source": [
    "## reload dataset\n",
    "df = spark.read.csv(\"./electricity.csv\", header=True, inferSchema=True)"
   ]
  },
  {
   "cell_type": "code",
   "execution_count": 82,
   "metadata": {},
   "outputs": [
    {
     "name": "stdout",
     "output_type": "stream",
     "text": [
      "root\n",
      " |-- _c0: integer (nullable = true)\n",
      " |-- street: string (nullable = true)\n",
      " |-- zipcode_from: string (nullable = true)\n",
      " |-- zipcode_to: string (nullable = true)\n",
      " |-- city: string (nullable = true)\n",
      " |-- delivery_perc_2015: double (nullable = true)\n",
      " |-- num_connections_2015: integer (nullable = true)\n",
      " |-- perc_of_active_connections_2015: double (nullable = true)\n",
      " |-- annual_consume_2015: integer (nullable = true)\n",
      " |-- annual_consume_lowtarif_perc_2015: double (nullable = true)\n",
      " |-- smartmeter_perc_2015: double (nullable = true)\n",
      " |-- delivery_perc_2016: double (nullable = true)\n",
      " |-- num_connections_2016: integer (nullable = true)\n",
      " |-- perc_of_active_connections_2016: double (nullable = true)\n",
      " |-- annual_consume_2016: integer (nullable = true)\n",
      " |-- annual_consume_lowtarif_perc_2016: double (nullable = true)\n",
      " |-- smartmeter_perc_2016: double (nullable = true)\n",
      " |-- delivery_perc_2014: double (nullable = true)\n",
      " |-- num_connections_2014: integer (nullable = true)\n",
      " |-- perc_of_active_connections_2014: double (nullable = true)\n",
      " |-- annual_consume_2014: integer (nullable = true)\n",
      " |-- annual_consume_lowtarif_perc_2014: double (nullable = true)\n",
      " |-- smartmeter_perc_2014: double (nullable = true)\n",
      " |-- delivery_perc_2013: double (nullable = true)\n",
      " |-- num_connections_2013: integer (nullable = true)\n",
      " |-- perc_of_active_connections_2013: double (nullable = true)\n",
      " |-- annual_consume_2013: integer (nullable = true)\n",
      " |-- annual_consume_lowtarif_perc_2013: double (nullable = true)\n",
      " |-- smartmeter_perc_2013: double (nullable = true)\n",
      " |-- delivery_perc_2009: double (nullable = true)\n",
      " |-- num_connections_2009: integer (nullable = true)\n",
      " |-- perc_of_active_connections_2009: double (nullable = true)\n",
      " |-- annual_consume_2009: integer (nullable = true)\n",
      " |-- annual_consume_lowtarif_perc_2009: double (nullable = true)\n",
      " |-- smartmeter_perc_2009: double (nullable = true)\n",
      " |-- delivery_perc_2010: double (nullable = true)\n",
      " |-- num_connections_2010: integer (nullable = true)\n",
      " |-- perc_of_active_connections_2010: double (nullable = true)\n",
      " |-- annual_consume_2010: integer (nullable = true)\n",
      " |-- annual_consume_lowtarif_perc_2010: double (nullable = true)\n",
      " |-- smartmeter_perc_2010: double (nullable = true)\n",
      " |-- delivery_perc_2012: double (nullable = true)\n",
      " |-- num_connections_2012: integer (nullable = true)\n",
      " |-- perc_of_active_connections_2012: double (nullable = true)\n",
      " |-- annual_consume_2012: integer (nullable = true)\n",
      " |-- annual_consume_lowtarif_perc_2012: double (nullable = true)\n",
      " |-- smartmeter_perc_2012: double (nullable = true)\n",
      " |-- delivery_perc_2011: double (nullable = true)\n",
      " |-- num_connections_2011: integer (nullable = true)\n",
      " |-- perc_of_active_connections_2011: double (nullable = true)\n",
      " |-- annual_consume_2011: integer (nullable = true)\n",
      " |-- annual_consume_lowtarif_perc_2011: double (nullable = true)\n",
      " |-- smartmeter_perc_2011: double (nullable = true)\n",
      " |-- num_connections_2018: double (nullable = true)\n",
      " |-- delivery_perc_2018: double (nullable = true)\n",
      " |-- perc_of_active_connections_2018: double (nullable = true)\n",
      " |-- annual_consume_2018: double (nullable = true)\n",
      " |-- annual_consume_lowtarif_perc_2018: double (nullable = true)\n",
      " |-- smartmeter_perc_2018: double (nullable = true)\n",
      " |-- num_connections_2017: integer (nullable = true)\n",
      " |-- delivery_perc_2017: double (nullable = true)\n",
      " |-- perc_of_active_connections_2017: double (nullable = true)\n",
      " |-- annual_consume_2017: double (nullable = true)\n",
      " |-- annual_consume_lowtarif_perc_2017: double (nullable = true)\n",
      " |-- smartmeter_perc_2017: double (nullable = true)\n",
      "\n"
     ]
    }
   ],
   "source": [
    "df.printSchema()"
   ]
  },
  {
   "cell_type": "code",
   "execution_count": 86,
   "metadata": {},
   "outputs": [
    {
     "name": "stdout",
     "output_type": "stream",
     "text": [
      "+---+----------------+------------+----------+---------+------------------+--------------------+-------------------------------+-------------------+---------------------------------+--------------------+------------------+--------------------+-------------------------------+-------------------+---------------------------------+--------------------+------------------+--------------------+-------------------------------+-------------------+---------------------------------+--------------------+------------------+--------------------+-------------------------------+-------------------+---------------------------------+--------------------+------------------+--------------------+-------------------------------+-------------------+---------------------------------+--------------------+------------------+--------------------+-------------------------------+-------------------+---------------------------------+--------------------+------------------+--------------------+-------------------------------+-------------------+---------------------------------+--------------------+------------------+--------------------+-------------------------------+-------------------+---------------------------------+--------------------+--------------------+------------------+-------------------------------+-------------------+---------------------------------+--------------------+--------------------+------------------+-------------------------------+-------------------+---------------------------------+--------------------+--------------------+\n",
      "|_c0|          street|zipcode_from|zipcode_to|     city|delivery_perc_2015|num_connections_2015|perc_of_active_connections_2015|annual_consume_2015|annual_consume_lowtarif_perc_2015|smartmeter_perc_2015|delivery_perc_2016|num_connections_2016|perc_of_active_connections_2016|annual_consume_2016|annual_consume_lowtarif_perc_2016|smartmeter_perc_2016|delivery_perc_2014|num_connections_2014|perc_of_active_connections_2014|annual_consume_2014|annual_consume_lowtarif_perc_2014|smartmeter_perc_2014|delivery_perc_2013|num_connections_2013|perc_of_active_connections_2013|annual_consume_2013|annual_consume_lowtarif_perc_2013|smartmeter_perc_2013|delivery_perc_2009|num_connections_2009|perc_of_active_connections_2009|annual_consume_2009|annual_consume_lowtarif_perc_2009|smartmeter_perc_2009|delivery_perc_2010|num_connections_2010|perc_of_active_connections_2010|annual_consume_2010|annual_consume_lowtarif_perc_2010|smartmeter_perc_2010|delivery_perc_2012|num_connections_2012|perc_of_active_connections_2012|annual_consume_2012|annual_consume_lowtarif_perc_2012|smartmeter_perc_2012|delivery_perc_2011|num_connections_2011|perc_of_active_connections_2011|annual_consume_2011|annual_consume_lowtarif_perc_2011|smartmeter_perc_2011|num_connections_2018|delivery_perc_2018|perc_of_active_connections_2018|annual_consume_2018|annual_consume_lowtarif_perc_2018|smartmeter_perc_2018|num_connections_2017|delivery_perc_2017|perc_of_active_connections_2017|annual_consume_2017|annual_consume_lowtarif_perc_2017|smartmeter_perc_2017|            features|\n",
      "+---+----------------+------------+----------+---------+------------------+--------------------+-------------------------------+-------------------+---------------------------------+--------------------+------------------+--------------------+-------------------------------+-------------------+---------------------------------+--------------------+------------------+--------------------+-------------------------------+-------------------+---------------------------------+--------------------+------------------+--------------------+-------------------------------+-------------------+---------------------------------+--------------------+------------------+--------------------+-------------------------------+-------------------+---------------------------------+--------------------+------------------+--------------------+-------------------------------+-------------------+---------------------------------+--------------------+------------------+--------------------+-------------------------------+-------------------+---------------------------------+--------------------+------------------+--------------------+-------------------------------+-------------------+---------------------------------+--------------------+--------------------+------------------+-------------------------------+-------------------+---------------------------------+--------------------+--------------------+------------------+-------------------------------+-------------------+---------------------------------+--------------------+--------------------+\n",
      "|  0|         Sasdijk|      4251AB|    4251AB|WERKENDAM|             100.0|                  15|                          100.0|               4728|                             29.0|                 7.0|             100.0|                  16|                          100.0|               4946|                             30.0|                13.0|             100.0|                  16|                          100.0|               4716|                             27.0|                 6.0|             100.0|                  16|                          100.0|               4589|                             18.0|                 0.0|             100.0|                  16|                          100.0|               4282|                             25.0|                 0.0|             100.0|                  16|                          100.0|               4961|                             34.0|                 0.0|             100.0|                  16|                          100.0|               4597|                             31.0|                 0.0|             100.0|                  16|                          100.0|               5369|                             37.0|                 0.0|                17.0|             100.0|                          100.0|            4614.24|                            34.24|               41.18|                  17|             100.0|                          100.0|            4149.24|                            28.33|               29.41|[4282.0,4961.0,53...|\n",
      "|  1|         Sasdijk|      4251AC|    4251AC|WERKENDAM|              80.0|                  10|                          100.0|               3908|                             33.0|                20.0|              82.0|                  11|                          100.0|               2892|                             29.0|                27.0|              82.0|                  11|                          100.0|               4547|                             17.0|                18.0|             100.0|                  11|                          100.0|               4124|                             16.0|                 0.0|             100.0|                  11|                          100.0|               5113|                             10.0|                 0.0|             100.0|                  11|                          100.0|               4517|                             13.0|                 0.0|             100.0|                  11|                          100.0|               3953|                             13.0|                 0.0|             100.0|                  11|                          100.0|               4344|                             14.0|                 0.0|                11.0|             81.82|                          100.0|            2520.73|                            34.31|               36.36|                  11|             81.82|                          100.0|            2389.27|                             34.6|               36.36|[5113.0,4517.0,43...|\n",
      "|  2|         Sasdijk|      4251AD|    4251AD|WERKENDAM|             100.0|                  29|                          100.0|               3850|                             30.0|                14.0|             100.0|                  29|                          100.0|               3868|                             33.0|                17.0|             100.0|                  29|                          100.0|               4060|                             24.0|                 0.0|             100.0|                  29|                          100.0|               4180|                             23.0|                 0.0|             100.0|                  30|                          100.0|               4809|                             34.0|                 0.0|             100.0|                  30|                          100.0|               3675|                             31.0|                 0.0|             100.0|                  29|                          100.0|               4449|                             33.0|                 0.0|             100.0|                  29|                          100.0|               4492|                             35.0|                 0.0|                28.0|             100.0|                          100.0|            4275.46|                            38.34|               28.57|                  29|             100.0|                          100.0|            3866.21|                            32.11|               17.24|[4809.0,3675.0,44...|\n",
      "|  3|       Nieuweweg|      4251AE|    4251AG|WERKENDAM|              95.0|                  21|                          100.0|               4751|                             52.0|                14.0|              90.0|                  21|                          100.0|               4802|                             59.0|                33.0|              95.0|                  20|                          100.0|               4921|                             51.0|                15.0|             100.0|                  21|                          100.0|               5231|                             36.0|                10.0|             100.0|                  21|                          100.0|               5015|                             44.0|                 0.0|             100.0|                  21|                          100.0|               5249|                             48.0|                 0.0|             100.0|                  21|                          100.0|               5532|                             47.0|                 5.0|             100.0|                  21|                          100.0|               5559|                             47.0|                 5.0|                21.0|             90.48|                          100.0|            4620.24|                            60.18|               33.33|                  21|             90.48|                          100.0|            4416.52|                            57.26|               33.33|[5015.0,5249.0,55...|\n",
      "|  4|       Koppenhof|      4251AH|    4251AH|WERKENDAM|             100.0|                  13|                          100.0|               3084|                             31.0|                23.0|             100.0|                  13|                          100.0|               3338|                             27.0|                31.0|             100.0|                  12|                          100.0|               3185|                             19.0|                 8.0|             100.0|                  13|                          100.0|               3166|                             23.0|                 0.0|             100.0|                  12|                          100.0|               3074|                             22.0|                 0.0|             100.0|                  12|                          100.0|               3226|                             33.0|                 0.0|             100.0|                  13|                          100.0|               2969|                             31.0|                 0.0|             100.0|                  13|                          100.0|               3110|                             32.0|                 0.0|                13.0|             100.0|                          100.0|            3037.38|                            40.24|               38.46|                  13|             100.0|                          100.0|            3233.77|                            27.92|               30.77|[3074.0,3226.0,31...|\n",
      "|  5|           Plein|      4251AJ|    4251AJ|WERKENDAM|             100.0|                  26|                          100.0|               5375|                             17.0|                 4.0|             100.0|                  26|                          100.0|               4974|                             26.0|                15.0|             100.0|                  26|                          100.0|               4647|                             20.0|                 0.0|             100.0|                  26|                          100.0|               5417|                             18.0|                 0.0|             100.0|                  26|                          100.0|               5480|                             26.0|                 0.0|             100.0|                  26|                          100.0|               5475|                             24.0|                 0.0|             100.0|                  26|                          100.0|               5508|                             23.0|                 0.0|             100.0|                  26|                          100.0|               5613|                             24.0|                 0.0|                26.0|             100.0|                          100.0|            5317.81|                            32.82|               23.08|                  26|             100.0|                          100.0|            5047.88|                            22.75|               19.23|[5480.0,5475.0,56...|\n",
      "|  6|     Sluisstraat|      4251AV|    4251AV|WERKENDAM|              96.0|                  23|                          100.0|               2610|                             37.0|                43.0|              95.0|                  22|                          100.0|               2561|                             41.0|                59.0|              96.0|                  23|                          100.0|               2826|                             40.0|                43.0|              95.0|                  22|                          100.0|               2867|                             36.0|                23.0|             100.0|                  21|                          100.0|               3244|                             49.0|                 0.0|             100.0|                  22|                          100.0|               3267|                             42.0|                 0.0|             100.0|                  22|                          100.0|               2966|                             37.0|                 5.0|             100.0|                  22|                          100.0|               3055|                             38.0|                 0.0|                23.0|             95.65|                          100.0|            2644.48|                            39.74|               56.52|                  23|             95.65|                          100.0|            2559.87|                            39.48|               56.52|[3244.0,3267.0,30...|\n",
      "|  7|     Havenstraat|      4251BC|    4251BC|WERKENDAM|             100.0|                  19|                          100.0|               5217|                             13.0|                 5.0|             100.0|                  19|                          100.0|               4653|                             27.0|                42.0|             100.0|                  19|                          100.0|               5044|                             11.0|                 5.0|             100.0|                  19|                          100.0|               4864|                             12.0|                 0.0|             100.0|                  19|                          100.0|               4448|                             11.0|                 0.0|             100.0|                  19|                          100.0|               4814|                             11.0|                 0.0|             100.0|                  19|                          100.0|               4776|                             11.0|                 0.0|             100.0|                  19|                          100.0|               5199|                             11.0|                 0.0|                19.0|             100.0|                          100.0|            4540.95|                            27.31|               57.89|                  19|             100.0|                          100.0|            4444.74|                            26.29|               47.37|[4448.0,4814.0,51...|\n",
      "|  8|     Havenstraat|      4251BD|    4251BD|WERKENDAM|             100.0|                  26|                          100.0|               2886|                             18.0|                12.0|             100.0|                  26|                          100.0|               2805|                             18.0|                12.0|             100.0|                  26|                          100.0|               2876|                             14.0|                12.0|             100.0|                  26|                          100.0|               2908|                             15.0|                 4.0|             100.0|                  27|                          100.0|               2655|                             22.0|                 0.0|             100.0|                  27|                          100.0|               2779|                             23.0|                 0.0|             100.0|                  26|                          100.0|               2847|                             23.0|                 4.0|             100.0|                  26|                          100.0|               2976|                             24.0|                 4.0|                26.0|             100.0|                          100.0|            2812.62|                            24.06|               23.08|                  26|             100.0|                          100.0|            2782.77|                            19.42|               15.38|[2655.0,2779.0,29...|\n",
      "|  9|     Hooftlanden|      4251BE|    4251BE|WERKENDAM|              96.0|                  25|                          100.0|               4100|                             23.0|                16.0|              96.0|                  25|                          100.0|               3851|                             33.0|                48.0|             100.0|                  25|                          100.0|               3978|                             19.0|                16.0|             100.0|                  25|                          100.0|               4096|                             22.0|                 8.0|             100.0|                  25|                          100.0|               3687|                             33.0|                 0.0|             100.0|                  25|                          100.0|               3662|                             32.0|                 0.0|             100.0|                  25|                          100.0|               3825|                             30.0|                 4.0|             100.0|                  25|                          100.0|               3660|                             30.0|                 0.0|                26.0|             96.15|                          100.0|            4071.46|                            39.18|               53.85|                  25|              96.0|                          100.0|            3767.96|                            32.29|                48.0|[3687.0,3662.0,36...|\n",
      "| 10|Beukenkampstraat|      4251BJ|    4251BJ|WERKENDAM|             100.0|                  23|                          100.0|               3963|                             18.0|                 4.0|             100.0|                  23|                          100.0|               3870|                             23.0|                39.0|             100.0|                  23|                          100.0|               3818|                             21.0|                 4.0|             100.0|                  23|                          100.0|               3887|                             18.0|                 0.0|             100.0|                  23|                          100.0|               3312|                             39.0|                 0.0|             100.0|                  23|                          100.0|               3373|                             38.0|                 0.0|             100.0|                  23|                          100.0|               4068|                             43.0|                 0.0|             100.0|                  23|                          100.0|               4021|                             45.0|                 0.0|                23.0|             86.96|                          100.0|             3756.7|                            38.96|               65.22|                  23|             95.65|                          100.0|            3764.39|                            29.16|               47.83|[3312.0,3373.0,40...|\n",
      "| 11|Van Heldenstraat|      4251BN|    4251BN|WERKENDAM|              93.0|                  14|                          100.0|               3070|                             33.0|                 7.0|              93.0|                  15|                          100.0|               3272|                             35.0|                27.0|              93.0|                  14|                          100.0|               3359|                             30.0|                 0.0|              93.0|                  15|                          100.0|               3310|                             32.0|                 7.0|             100.0|                  14|                          100.0|               3118|                             29.0|                 0.0|             100.0|                  15|                          100.0|               3043|                             33.0|                 0.0|              93.0|                  15|                          100.0|               3490|                             29.0|                 7.0|             100.0|                  15|                          100.0|               3601|                             27.0|                 0.0|                15.0|             93.33|                          100.0|             3339.8|                            37.94|               26.67|                  15|             93.33|                          100.0|            3398.87|                            39.06|               26.67|[3118.0,3043.0,36...|\n",
      "| 12|Van Heldenstraat|      4251BP|    4251BP|WERKENDAM|              95.0|                  19|                          100.0|               2674|                             40.0|                21.0|              95.0|                  19|                          100.0|               2704|                             38.0|                37.0|              95.0|                  19|                          100.0|               2606|                             33.0|                21.0|              95.0|                  19|                          100.0|               2749|                             30.0|                11.0|             100.0|                  19|                          100.0|               2887|                             27.0|                 0.0|             100.0|                  19|                          100.0|               2910|                             27.0|                 0.0|             100.0|                  19|                          100.0|               2831|                             28.0|                 0.0|             100.0|                  19|                          100.0|               2933|                             26.0|                 0.0|                19.0|             94.74|                          100.0|            2831.26|                            37.55|               36.84|                  19|             94.74|                          100.0|            2951.26|                            38.01|               36.84|[2887.0,2910.0,29...|\n",
      "| 13|Van Heldenstraat|      4251BR|    4251BS|WERKENDAM|             100.0|                  18|                          100.0|               2969|                             26.0|                11.0|             100.0|                  18|                          100.0|               2695|                             31.0|                28.0|             100.0|                  18|                          100.0|               2961|                             30.0|                11.0|             100.0|                  18|                          100.0|               3094|                             32.0|                11.0|             100.0|                  17|                          100.0|               2781|                             26.0|                 0.0|             100.0|                  18|                          100.0|               2703|                             28.0|                 0.0|             100.0|                  18|                          100.0|               3112|                             33.0|                 6.0|             100.0|                  18|                          100.0|               2837|                             28.0|                 6.0|                18.0|             94.44|                          100.0|            2436.11|                            27.38|               38.89|                  18|             100.0|                          100.0|            2445.72|                            27.99|               27.78|[2781.0,2703.0,28...|\n",
      "| 14|Van Heldenstraat|      4251BT|    4251BT|WERKENDAM|             100.0|                  11|                          100.0|               3181|                             40.0|                 9.0|             100.0|                  11|                          100.0|               2953|                             37.0|                18.0|             100.0|                  11|                          100.0|               2878|                             45.0|                 9.0|             100.0|                  11|                          100.0|               3131|                             43.0|                 9.0|             100.0|                  11|                          100.0|               2917|                             46.0|                 0.0|             100.0|                  11|                          100.0|               3132|                             45.0|                 0.0|             100.0|                  11|                          100.0|               3134|                             42.0|                 0.0|             100.0|                  11|                          100.0|               3057|                             41.0|                 0.0|                11.0|             100.0|                          100.0|            2469.73|                            33.13|               18.18|                  11|             100.0|                          100.0|            2438.36|                            30.85|               18.18|[2917.0,3132.0,30...|\n",
      "| 15|      Slikstraat|      4251CB|    4251CB|WERKENDAM|             100.0|                  15|                          100.0|               4829|                             31.0|                 0.0|             100.0|                  15|                          100.0|               4845|                             30.0|                 7.0|             100.0|                  15|                          100.0|               4719|                             32.0|                 0.0|             100.0|                  15|                          100.0|               4526|                             29.0|                 0.0|             100.0|                  14|                          100.0|               6149|                             69.0|                 0.0|             100.0|                  14|                          100.0|               5524|                             68.0|                 0.0|             100.0|                  15|                          100.0|               4608|                             68.0|                 0.0|             100.0|                  15|                          100.0|               5028|                             67.0|                 0.0|                15.0|             100.0|                          100.0|            4619.47|                            22.71|               33.33|                  15|             100.0|                          100.0|             4608.6|                            24.28|               13.33|[6149.0,5524.0,50...|\n",
      "| 16|     Boterstraat|      4251CC|    4251CC|WERKENDAM|             100.0|                  35|                          100.0|               3046|                             38.0|                54.0|             100.0|                  34|                          100.0|               3064|                             37.0|                59.0|             100.0|                  36|                          100.0|               3967|                             45.0|                56.0|             100.0|                  18|                          100.0|               5152|                             35.0|                 6.0|             100.0|                  18|                          100.0|               4862|                             29.0|                 0.0|             100.0|                  18|                          100.0|               5331|                             23.0|                 0.0|             100.0|                  18|                          100.0|               4920|                             25.0|                 0.0|             100.0|                  18|                          100.0|               4988|                             26.0|                 0.0|                36.0|             94.44|                          100.0|            2781.97|                            39.38|               66.67|                  36|             100.0|                          100.0|            2729.39|                            37.49|               61.11|[4862.0,5331.0,49...|\n",
      "| 17|      Kerkstraat|      4251CH|    4251CH|WERKENDAM|             100.0|                  20|                          100.0|               7624|                             39.0|                35.0|             100.0|                  20|                          100.0|               7379|                             37.0|                40.0|             100.0|                  20|                          100.0|               9261|                             34.0|                30.0|             100.0|                  18|                          100.0|              10847|                             32.0|                 6.0|             100.0|                  20|                          100.0|               9896|                             33.0|                 0.0|             100.0|                  20|                          100.0|              10492|                             34.0|                 0.0|             100.0|                  19|                          100.0|              10913|                             34.0|                 5.0|             100.0|                  19|                          100.0|              11141|                             34.0|                 0.0|                19.0|             100.0|                          100.0|           10114.21|                             41.1|               47.37|                  20|             100.0|                          100.0|           10516.15|                            39.77|                40.0|[9896.0,10492.0,1...|\n",
      "| 18|      Hoogstraat|      4251CJ|    4251CJ|WERKENDAM|             100.0|                  24|                          100.0|               9050|                             27.0|                17.0|             100.0|                  24|                          100.0|               8567|                             29.0|                21.0|             100.0|                  25|                          100.0|               9890|                             24.0|                16.0|             100.0|                  25|                          100.0|              10526|                             29.0|                16.0|             100.0|                  22|                          100.0|               9824|                             48.0|                 0.0|             100.0|                  22|                          100.0|              11098|                             49.0|                 0.0|             100.0|                  24|                          100.0|              10899|                             49.0|                17.0|             100.0|                  24|                          100.0|              11630|                             46.0|                13.0|                27.0|             92.59|                          100.0|            9309.15|                            47.02|               40.74|                  27|              96.3|                          100.0|            7739.33|                            38.66|               33.33|[9824.0,11098.0,1...|\n",
      "| 19|      Hoogstraat|      4251CK|    4251CK|WERKENDAM|             100.0|                  11|                          100.0|               8249|                             35.0|                18.0|             100.0|                  11|                          100.0|               7356|                             40.0|                27.0|             100.0|                  12|                          100.0|              10412|                             40.0|                 8.0|             100.0|                  12|                          100.0|              10260|                             41.0|                 8.0|             100.0|                  12|                          100.0|               9415|                             43.0|                 0.0|             100.0|                  12|                          100.0|              12144|                             42.0|                 0.0|             100.0|                  12|                          100.0|              10738|                             40.0|                 8.0|             100.0|                  12|                          100.0|              10517|                             40.0|                 8.0|                14.0|             100.0|                          100.0|            8543.64|                            44.01|               42.86|                  13|             100.0|                          100.0|            7475.69|                            42.91|               38.46|[9415.0,12144.0,1...|\n",
      "+---+----------------+------------+----------+---------+------------------+--------------------+-------------------------------+-------------------+---------------------------------+--------------------+------------------+--------------------+-------------------------------+-------------------+---------------------------------+--------------------+------------------+--------------------+-------------------------------+-------------------+---------------------------------+--------------------+------------------+--------------------+-------------------------------+-------------------+---------------------------------+--------------------+------------------+--------------------+-------------------------------+-------------------+---------------------------------+--------------------+------------------+--------------------+-------------------------------+-------------------+---------------------------------+--------------------+------------------+--------------------+-------------------------------+-------------------+---------------------------------+--------------------+------------------+--------------------+-------------------------------+-------------------+---------------------------------+--------------------+--------------------+------------------+-------------------------------+-------------------+---------------------------------+--------------------+--------------------+------------------+-------------------------------+-------------------+---------------------------------+--------------------+--------------------+\n",
      "only showing top 20 rows\n",
      "\n"
     ]
    }
   ],
   "source": [
    "# assembling vector\n",
    "from pyspark.ml.feature import VectorAssembler\n",
    "\n",
    "assembler = VectorAssembler(\n",
    "    inputCols=[\"annual_consume_2009\",\"annual_consume_2010\",\"annual_consume_2011\",\"annual_consume_2012\",\"annual_consume_2013\",\"annual_consume_2014\",\"annual_consume_2015\",\"annual_consume_2016\",\"annual_consume_2017\",\"annual_consume_2018\"],\n",
    "    outputCol='features')\n",
    "\n",
    "data = assembler.transform(df)\n",
    "data.show()"
   ]
  },
  {
   "cell_type": "code",
   "execution_count": 87,
   "metadata": {},
   "outputs": [],
   "source": [
    "# Train model\n",
    "from pyspark.ml.clustering import KMeans\n",
    "from pyspark.ml.evaluation import ClusteringEvaluator\n",
    "\n",
    "kmeans = KMeans().setK(10).setSeed(1)\n",
    "model = kmeans.fit(data)"
   ]
  },
  {
   "cell_type": "code",
   "execution_count": 88,
   "metadata": {},
   "outputs": [
    {
     "name": "stdout",
     "output_type": "stream",
     "text": [
      "+---+---------+------------+----------+---------+------------------+--------------------+-------------------------------+-------------------+---------------------------------+--------------------+------------------+--------------------+-------------------------------+-------------------+---------------------------------+--------------------+------------------+--------------------+-------------------------------+-------------------+---------------------------------+--------------------+------------------+--------------------+-------------------------------+-------------------+---------------------------------+--------------------+------------------+--------------------+-------------------------------+-------------------+---------------------------------+--------------------+------------------+--------------------+-------------------------------+-------------------+---------------------------------+--------------------+------------------+--------------------+-------------------------------+-------------------+---------------------------------+--------------------+------------------+--------------------+-------------------------------+-------------------+---------------------------------+--------------------+--------------------+------------------+-------------------------------+-------------------+---------------------------------+--------------------+--------------------+------------------+-------------------------------+-------------------+---------------------------------+--------------------+--------------------+----------+\n",
      "|_c0|   street|zipcode_from|zipcode_to|     city|delivery_perc_2015|num_connections_2015|perc_of_active_connections_2015|annual_consume_2015|annual_consume_lowtarif_perc_2015|smartmeter_perc_2015|delivery_perc_2016|num_connections_2016|perc_of_active_connections_2016|annual_consume_2016|annual_consume_lowtarif_perc_2016|smartmeter_perc_2016|delivery_perc_2014|num_connections_2014|perc_of_active_connections_2014|annual_consume_2014|annual_consume_lowtarif_perc_2014|smartmeter_perc_2014|delivery_perc_2013|num_connections_2013|perc_of_active_connections_2013|annual_consume_2013|annual_consume_lowtarif_perc_2013|smartmeter_perc_2013|delivery_perc_2009|num_connections_2009|perc_of_active_connections_2009|annual_consume_2009|annual_consume_lowtarif_perc_2009|smartmeter_perc_2009|delivery_perc_2010|num_connections_2010|perc_of_active_connections_2010|annual_consume_2010|annual_consume_lowtarif_perc_2010|smartmeter_perc_2010|delivery_perc_2012|num_connections_2012|perc_of_active_connections_2012|annual_consume_2012|annual_consume_lowtarif_perc_2012|smartmeter_perc_2012|delivery_perc_2011|num_connections_2011|perc_of_active_connections_2011|annual_consume_2011|annual_consume_lowtarif_perc_2011|smartmeter_perc_2011|num_connections_2018|delivery_perc_2018|perc_of_active_connections_2018|annual_consume_2018|annual_consume_lowtarif_perc_2018|smartmeter_perc_2018|num_connections_2017|delivery_perc_2017|perc_of_active_connections_2017|annual_consume_2017|annual_consume_lowtarif_perc_2017|smartmeter_perc_2017|            features|prediction|\n",
      "+---+---------+------------+----------+---------+------------------+--------------------+-------------------------------+-------------------+---------------------------------+--------------------+------------------+--------------------+-------------------------------+-------------------+---------------------------------+--------------------+------------------+--------------------+-------------------------------+-------------------+---------------------------------+--------------------+------------------+--------------------+-------------------------------+-------------------+---------------------------------+--------------------+------------------+--------------------+-------------------------------+-------------------+---------------------------------+--------------------+------------------+--------------------+-------------------------------+-------------------+---------------------------------+--------------------+------------------+--------------------+-------------------------------+-------------------+---------------------------------+--------------------+------------------+--------------------+-------------------------------+-------------------+---------------------------------+--------------------+--------------------+------------------+-------------------------------+-------------------+---------------------------------+--------------------+--------------------+------------------+-------------------------------+-------------------+---------------------------------+--------------------+--------------------+----------+\n",
      "|  0|  Sasdijk|      4251AB|    4251AB|WERKENDAM|             100.0|                  15|                          100.0|               4728|                             29.0|                 7.0|             100.0|                  16|                          100.0|               4946|                             30.0|                13.0|             100.0|                  16|                          100.0|               4716|                             27.0|                 6.0|             100.0|                  16|                          100.0|               4589|                             18.0|                 0.0|             100.0|                  16|                          100.0|               4282|                             25.0|                 0.0|             100.0|                  16|                          100.0|               4961|                             34.0|                 0.0|             100.0|                  16|                          100.0|               4597|                             31.0|                 0.0|             100.0|                  16|                          100.0|               5369|                             37.0|                 0.0|                17.0|             100.0|                          100.0|            4614.24|                            34.24|               41.18|                  17|             100.0|                          100.0|            4149.24|                            28.33|               29.41|[4282.0,4961.0,53...|         4|\n",
      "|  1|  Sasdijk|      4251AC|    4251AC|WERKENDAM|              80.0|                  10|                          100.0|               3908|                             33.0|                20.0|              82.0|                  11|                          100.0|               2892|                             29.0|                27.0|              82.0|                  11|                          100.0|               4547|                             17.0|                18.0|             100.0|                  11|                          100.0|               4124|                             16.0|                 0.0|             100.0|                  11|                          100.0|               5113|                             10.0|                 0.0|             100.0|                  11|                          100.0|               4517|                             13.0|                 0.0|             100.0|                  11|                          100.0|               3953|                             13.0|                 0.0|             100.0|                  11|                          100.0|               4344|                             14.0|                 0.0|                11.0|             81.82|                          100.0|            2520.73|                            34.31|               36.36|                  11|             81.82|                          100.0|            2389.27|                             34.6|               36.36|[5113.0,4517.0,43...|         0|\n",
      "|  2|  Sasdijk|      4251AD|    4251AD|WERKENDAM|             100.0|                  29|                          100.0|               3850|                             30.0|                14.0|             100.0|                  29|                          100.0|               3868|                             33.0|                17.0|             100.0|                  29|                          100.0|               4060|                             24.0|                 0.0|             100.0|                  29|                          100.0|               4180|                             23.0|                 0.0|             100.0|                  30|                          100.0|               4809|                             34.0|                 0.0|             100.0|                  30|                          100.0|               3675|                             31.0|                 0.0|             100.0|                  29|                          100.0|               4449|                             33.0|                 0.0|             100.0|                  29|                          100.0|               4492|                             35.0|                 0.0|                28.0|             100.0|                          100.0|            4275.46|                            38.34|               28.57|                  29|             100.0|                          100.0|            3866.21|                            32.11|               17.24|[4809.0,3675.0,44...|         0|\n",
      "|  3|Nieuweweg|      4251AE|    4251AG|WERKENDAM|              95.0|                  21|                          100.0|               4751|                             52.0|                14.0|              90.0|                  21|                          100.0|               4802|                             59.0|                33.0|              95.0|                  20|                          100.0|               4921|                             51.0|                15.0|             100.0|                  21|                          100.0|               5231|                             36.0|                10.0|             100.0|                  21|                          100.0|               5015|                             44.0|                 0.0|             100.0|                  21|                          100.0|               5249|                             48.0|                 0.0|             100.0|                  21|                          100.0|               5532|                             47.0|                 5.0|             100.0|                  21|                          100.0|               5559|                             47.0|                 5.0|                21.0|             90.48|                          100.0|            4620.24|                            60.18|               33.33|                  21|             90.48|                          100.0|            4416.52|                            57.26|               33.33|[5015.0,5249.0,55...|         4|\n",
      "|  4|Koppenhof|      4251AH|    4251AH|WERKENDAM|             100.0|                  13|                          100.0|               3084|                             31.0|                23.0|             100.0|                  13|                          100.0|               3338|                             27.0|                31.0|             100.0|                  12|                          100.0|               3185|                             19.0|                 8.0|             100.0|                  13|                          100.0|               3166|                             23.0|                 0.0|             100.0|                  12|                          100.0|               3074|                             22.0|                 0.0|             100.0|                  12|                          100.0|               3226|                             33.0|                 0.0|             100.0|                  13|                          100.0|               2969|                             31.0|                 0.0|             100.0|                  13|                          100.0|               3110|                             32.0|                 0.0|                13.0|             100.0|                          100.0|            3037.38|                            40.24|               38.46|                  13|             100.0|                          100.0|            3233.77|                            27.92|               30.77|[3074.0,3226.0,31...|         0|\n",
      "+---+---------+------------+----------+---------+------------------+--------------------+-------------------------------+-------------------+---------------------------------+--------------------+------------------+--------------------+-------------------------------+-------------------+---------------------------------+--------------------+------------------+--------------------+-------------------------------+-------------------+---------------------------------+--------------------+------------------+--------------------+-------------------------------+-------------------+---------------------------------+--------------------+------------------+--------------------+-------------------------------+-------------------+---------------------------------+--------------------+------------------+--------------------+-------------------------------+-------------------+---------------------------------+--------------------+------------------+--------------------+-------------------------------+-------------------+---------------------------------+--------------------+------------------+--------------------+-------------------------------+-------------------+---------------------------------+--------------------+--------------------+------------------+-------------------------------+-------------------+---------------------------------+--------------------+--------------------+------------------+-------------------------------+-------------------+---------------------------------+--------------------+--------------------+----------+\n",
      "only showing top 5 rows\n",
      "\n"
     ]
    }
   ],
   "source": [
    "# Make a prediction\n",
    "predictions = model.transform(data)\n",
    "predictions.show(5)"
   ]
  },
  {
   "cell_type": "code",
   "execution_count": 89,
   "metadata": {},
   "outputs": [
    {
     "name": "stdout",
     "output_type": "stream",
     "text": [
      "Silhouette with squared euclidean distance = 0.5801493305258678\n"
     ]
    }
   ],
   "source": [
    "evaluator = ClusteringEvaluator()\n",
    "\n",
    "silhouette = evaluator.evaluate(predictions)\n",
    "print(\"Silhouette with squared euclidean distance = \" + str(silhouette))"
   ]
  },
  {
   "cell_type": "code",
   "execution_count": 90,
   "metadata": {},
   "outputs": [
    {
     "name": "stdout",
     "output_type": "stream",
     "text": [
      "Cluster Centers: \n",
      "[3919.82004705 3910.12173288 3899.24731279 3834.66635357 3769.55037899\n",
      " 3630.38734154 3536.35699817 3455.02060736 3385.44124804 3295.52559004]\n",
      "[21618.91920474 21468.97631134 21610.42343486 21754.18401015\n",
      " 21586.25465313 20897.84348562 20586.42174281 20129.46996616\n",
      " 19670.34975888 19565.06972081]\n",
      "[11487.5735749  11442.19907203 11560.01590809 11516.10903668\n",
      " 11471.77242598 11109.42366328 10928.18603624 10761.69034468\n",
      " 10643.60948188 10383.82007844]\n",
      "[45831.45454545 45819.63636364 45635.85353535 39346.4040404\n",
      " 38431.69191919 37555.8030303  37144.93939394 36092.33333333\n",
      " 42031.75636364 35397.62439394]\n",
      "[5586.0473095  5567.7352835  5582.07143824 5534.51426508 5445.32471109\n",
      " 5246.59218129 5151.07441766 5028.02476074 4925.26178088 4813.89441563]\n",
      "[2487.14652459 2482.38339226 2473.586992   2451.8755148  2420.78063564\n",
      " 2343.4638958  2295.58295128 2261.49117064 2225.50444615 2190.40018057]\n",
      "[29675.54152446 29703.89192264 29842.66894198 29837.54379977\n",
      " 29438.98634812 28571.62571104 28025.41865757 27204.51080774\n",
      " 26439.3216496  26281.72250284]\n",
      "[8135.83461703 8107.16040864 8138.1622807  8169.37441164 8088.86938383\n",
      " 7825.07616602 7689.29139923 7548.90350877 7428.84713522 7285.04051348]\n",
      "[15698.611233   15618.68736288 15746.17244405 15899.55901711\n",
      " 15865.62417727 15393.22531812 15054.31878017 14834.76546731\n",
      " 14452.91394691 14309.9939842 ]\n",
      "[24904.96460177 25320.6920354  25509.01415929  6156.73274336\n",
      "  6033.11858407  5965.51681416  6018.53097345  5938.20707965\n",
      " 16000.06210619  5247.95768142]\n"
     ]
    }
   ],
   "source": [
    "# Shows the result\n",
    "centers = model.clusterCenters()\n",
    "print(\"Cluster Centers: \")\n",
    "for center in centers:\n",
    "    print(center)"
   ]
  }
 ],
 "metadata": {
  "kernelspec": {
   "display_name": "Python 3",
   "language": "python",
   "name": "python3"
  },
  "language_info": {
   "codemirror_mode": {
    "name": "ipython",
    "version": 3
   },
   "file_extension": ".py",
   "mimetype": "text/x-python",
   "name": "python",
   "nbconvert_exporter": "python",
   "pygments_lexer": "ipython3",
   "version": "3.7.1"
  }
 },
 "nbformat": 4,
 "nbformat_minor": 2
}
